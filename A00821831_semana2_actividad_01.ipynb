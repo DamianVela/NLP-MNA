{
  "nbformat": 4,
  "nbformat_minor": 0,
  "metadata": {
    "colab": {
      "provenance": []
    },
    "kernelspec": {
      "name": "python3",
      "display_name": "Python 3"
    },
    "language_info": {
      "name": "python"
    }
  },
  "cells": [
    {
      "cell_type": "markdown",
      "source": [
        "#**Maestría en Inteligencia Artificial Aplicada**\n",
        "##**Curso: Procesamiento de Lenguaje Natural (NLP)**\n",
        "###Tecnológico de Monterrey\n",
        "###Prof Luis Eduardo Falcón Morales\n",
        "\n",
        "###Alumno: Oscar Damián Vela Noyola\n",
        "###Matrícula: A00821831\n",
        "\n",
        "## **Adtividad de la Semana 02**\n",
        "###**Introducción al procesamiento de texto.**"
      ],
      "metadata": {
        "id": "759SG4TyfbUn"
      }
    },
    {
      "cell_type": "markdown",
      "source": [
        "En esta actividad deberás utilizar los datos del siguiente archivo que se encuentra en Canvas:\n",
        "\n",
        "MNA_NLP_semana_02_Actividad_datos.txt\n",
        "\n",
        "El archivo contiene comentarios en inglés sobre servicios de comida de la página de Yelp: https://www.yelp.com/ .\n",
        "\n",
        "Son mil comentarios y forman parte del conjunto de datos que se encuentra en el Machine Learning Repository de la UCI, llamado \"Sentiment Labelled Sentences\": https://archive.ics.uci.edu/ml/datasets/Sentiment+Labelled+Sentences#\n"
      ],
      "metadata": {
        "id": "6ue1YAKx3XDo"
      }
    },
    {
      "cell_type": "markdown",
      "source": [
        "#**Parte 1. Cargamos los datos.**   "
      ],
      "metadata": {
        "id": "Zj-h4drXD-X9"
      }
    },
    {
      "cell_type": "markdown",
      "source": [
        "Cargar los datos del archivo indicado y obtener una lista de longitud de 1000 strings/comentarios.\n",
        "\n",
        "Por el momento solamente requerimos las bibliotecas de Numpy y re, para el manejo de los arreglos y de las expresiones regulares en Python.\n",
        "\n",
        "En particular, no necesitarás en esta actividad la biblioteca de Pandas.\n",
        "\n",
        "###**NOTA: En esta actividad no debes importar nada más, con estas dos bibliotecas será *suficiente*.**"
      ],
      "metadata": {
        "id": "BY6yifxscfrx"
      }
    },
    {
      "cell_type": "code",
      "source": [
        "import numpy as np    # importamos Numpy para el manejo de los arreglos.\n",
        "import re             # importamos re para el manejo de las expresiones regulares."
      ],
      "metadata": {
        "id": "OJ26dAfhdFnf"
      },
      "execution_count": null,
      "outputs": []
    },
    {
      "cell_type": "code",
      "source": [
        "# Ejecuta las siguientes instrucciones para cargar la información del achivo dado:\n",
        "\n",
        "with open('MNA_NLP_semana_02_Actividad_datos.txt',        # puedes actualizar la ruta a tu archivo, en dado caso.\n",
        "          mode='r',     # abrimos el archivo en modo lectura.\n",
        "          ) as f:\n",
        "    docs = f.readlines()    # separamos cada comentario por líneas\n",
        "\n",
        "f.close()  # ya que tenemos la información en la variable docs, cerramos el archivo"
      ],
      "metadata": {
        "id": "QHUmJyjDdGNP"
      },
      "execution_count": null,
      "outputs": []
    },
    {
      "cell_type": "code",
      "source": [
        "type(docs) == list   # Verifica que tu variable \"docs\" es una lista"
      ],
      "metadata": {
        "id": "L6WzrSrodG-Y",
        "colab": {
          "base_uri": "https://localhost:8080/"
        },
        "outputId": "871ac373-fdfd-46d5-b83e-826798f4e881"
      },
      "execution_count": null,
      "outputs": [
        {
          "output_type": "execute_result",
          "data": {
            "text/plain": [
              "True"
            ]
          },
          "metadata": {},
          "execution_count": 3
        }
      ]
    },
    {
      "cell_type": "code",
      "source": [
        "len(docs)==1000  # verifica que la longitud de \"docs\" es de mil comentarios."
      ],
      "metadata": {
        "id": "QIK1u9WS2FtS",
        "colab": {
          "base_uri": "https://localhost:8080/"
        },
        "outputId": "d0b8a4f7-19d1-4543-e425-cf1a8d077dcf"
      },
      "execution_count": null,
      "outputs": [
        {
          "output_type": "execute_result",
          "data": {
            "text/plain": [
              "True"
            ]
          },
          "metadata": {},
          "execution_count": 4
        }
      ]
    },
    {
      "cell_type": "code",
      "source": [
        "docs[0:10]     # observa algunos de los primeros comentarios"
      ],
      "metadata": {
        "id": "9AMLIfQvJqNZ",
        "colab": {
          "base_uri": "https://localhost:8080/"
        },
        "outputId": "38dc6e2e-b8cf-43b7-cb33-774d1e212545"
      },
      "execution_count": null,
      "outputs": [
        {
          "output_type": "execute_result",
          "data": {
            "text/plain": [
              "['Wow... Loved this place.\\n',\n",
              " 'Crust is not good.\\n',\n",
              " 'Not tasty and the texture was just nasty.\\n',\n",
              " 'Stopped by during the late May bank holiday off Rick Steve recommendation and loved it.\\n',\n",
              " 'The selection on the menu was great and so were the prices.\\n',\n",
              " 'Now I am getting angry and I want my damn pho.\\n',\n",
              " \"Honeslty it didn't taste THAT fresh.)\\n\",\n",
              " 'The potatoes were like rubber and you could tell they had been made up ahead of time being kept under a warmer.\\n',\n",
              " 'The fries were great too.\\n',\n",
              " 'A great touch.\\n']"
            ]
          },
          "metadata": {},
          "execution_count": 5
        }
      ]
    },
    {
      "cell_type": "markdown",
      "source": [
        "#**Parte 2: sección de preguntas (regex).**   \n"
      ],
      "metadata": {
        "id": "k_ewoagic5jc"
      }
    },
    {
      "cell_type": "markdown",
      "source": [
        "##**Instrucciones:**\n",
        "\n",
        "###**A continuación deberás contestar cada una de las preguntas que te piden usando expresiones regulares (regex).**\n",
        "\n",
        "###**Por el momento no hay restricción en cuanto al número de líneas de código que agregues, pero trata de incluir las mínimas posibles.**"
      ],
      "metadata": {
        "id": "X-eMJa3DFCIV"
      }
    },
    {
      "cell_type": "markdown",
      "source": [
        "*   **Pregunta 1.**\n",
        "\n",
        "Busca y elimina todos los saltos de línea '\\n' que se encuentran al final de cada comentario.\n",
        "\n",
        "Una vez finalizado, imprime los primeros 10 comentarios del resultado obtenido.\n"
      ],
      "metadata": {
        "id": "78nJMemzn5a5"
      }
    },
    {
      "cell_type": "code",
      "source": [
        "prosa = \" \".join(docs) #Creamos una variable string que concatene todos los comentarios del documento\n",
        "saltos = prosa.splitlines() #usamos splitlines para quitar '\\n'"
      ],
      "metadata": {
        "id": "PwbYYIuZn8pE"
      },
      "execution_count": null,
      "outputs": []
    },
    {
      "cell_type": "code",
      "source": [
        "saltos[0:10] #Imprimimos las primeras 10 frases"
      ],
      "metadata": {
        "id": "j-0qeh2Jn8l1",
        "colab": {
          "base_uri": "https://localhost:8080/"
        },
        "outputId": "bb87c5a7-952f-40fd-b258-9588b58c9c3e"
      },
      "execution_count": null,
      "outputs": [
        {
          "output_type": "execute_result",
          "data": {
            "text/plain": [
              "['Wow... Loved this place.',\n",
              " ' Crust is not good.',\n",
              " ' Not tasty and the texture was just nasty.',\n",
              " ' Stopped by during the late May bank holiday off Rick Steve recommendation and loved it.',\n",
              " ' The selection on the menu was great and so were the prices.',\n",
              " ' Now I am getting angry and I want my damn pho.',\n",
              " \" Honeslty it didn't taste THAT fresh.)\",\n",
              " ' The potatoes were like rubber and you could tell they had been made up ahead of time being kept under a warmer.',\n",
              " ' The fries were great too.',\n",
              " ' A great touch.']"
            ]
          },
          "metadata": {},
          "execution_count": 7
        }
      ]
    },
    {
      "cell_type": "markdown",
      "source": [
        "*   **Pregunta 2.**  \n",
        "\n",
        "Busca e imprime todas las palabras que terminan con dos o más signos de admiración seguidos, por ejemplo \"!!!\".\n",
        "\n",
        "Debes imprimir tanto la palabra como la totalidad de signos de admiración que le siguen.\n",
        "\n",
        "Indica cuántos resultados obtuviste.\n",
        "\n"
      ],
      "metadata": {
        "id": "VWeKQC93ctEo"
      }
    },
    {
      "cell_type": "code",
      "source": [
        "prosa2 = \" \".join(saltos) #Creamos otro string que no contenga los saltos de linea\n",
        "Palabras = prosa2.split() #Obtenemos las palabras de ahí\n",
        "\n",
        "#Recorremos con un for toda la lista de palabras y con la expresión: r'\\w!!'\n",
        "#nos aseguramos que haya coincidencia en el if (si no que no tome en cuenta la palabra)\n",
        "#finalmente, que imprima la palabra y la cantidad de coincidencias.\n",
        "signos = [word + \": \" + str(len(re.findall(r\"!\",word))) for word in Palabras if len(re.findall(r'\\w!!',word)) > 0]"
      ],
      "metadata": {
        "id": "a-0zzX6z0i1H"
      },
      "execution_count": null,
      "outputs": []
    },
    {
      "cell_type": "code",
      "source": [
        "len(signos) #Imprime la cantidad de coincidencias que se obtuvieron"
      ],
      "metadata": {
        "id": "SPVM1MCWdH6Z",
        "colab": {
          "base_uri": "https://localhost:8080/"
        },
        "outputId": "8846a3c2-bead-4e3e-8828-278d4eb1a813"
      },
      "execution_count": null,
      "outputs": [
        {
          "output_type": "execute_result",
          "data": {
            "text/plain": [
              "26"
            ]
          },
          "metadata": {},
          "execution_count": 14
        }
      ]
    },
    {
      "cell_type": "code",
      "source": [
        "signos[0:10] #Imprime las primeras 5"
      ],
      "metadata": {
        "colab": {
          "base_uri": "https://localhost:8080/"
        },
        "id": "9zwzTn-bwIfq",
        "outputId": "f2191ead-77bb-4b7c-af16-5cac43cf4b9e"
      },
      "execution_count": null,
      "outputs": [
        {
          "output_type": "execute_result",
          "data": {
            "text/plain": [
              "['Firehouse!!!!!: 5',\n",
              " 'APPETIZERS!!!: 3',\n",
              " 'amazing!!!: 3',\n",
              " 'buffet!!!: 3',\n",
              " 'good!!: 2',\n",
              " 'it!!!!: 4',\n",
              " 'DELICIOUS!!: 2',\n",
              " 'amazing!!: 2',\n",
              " 'shawarrrrrrma!!!!!!: 6',\n",
              " 'yucky!!!: 3']"
            ]
          },
          "metadata": {},
          "execution_count": 15
        }
      ]
    },
    {
      "cell_type": "markdown",
      "source": [
        "*   **Pregunta 3.**  \n",
        "\n",
        "Busca e imprime todas las palabras que están escritas totalmente en mayúsculas. Cada coincidencia debe ser una sola palabra.\n",
        "\n",
        "Indica cuántas palabras encontraste.\n",
        "\n"
      ],
      "metadata": {
        "id": "-s3okBqL96TT"
      }
    },
    {
      "cell_type": "code",
      "source": [
        "Mayus = list(set(re.findall(r'\\b[A-Z]+\\b',prosa2))) #Checa que desde el inicio hasta el final\n",
        "#La palabra contenga mayúsculas. Hacemos un set con los resultados para no tener palabras iguales y\n",
        "#lo regresamos a lista."
      ],
      "metadata": {
        "id": "L3q08aq69sNn"
      },
      "execution_count": 151,
      "outputs": []
    },
    {
      "cell_type": "code",
      "source": [
        "len(Mayus) #Imprimimos la cantidad de palabras completamente en mayúsculas."
      ],
      "metadata": {
        "colab": {
          "base_uri": "https://localhost:8080/"
        },
        "id": "vzYMciOOxhHA",
        "outputId": "2f1072de-d66f-4a8c-aacd-cffd7ef1fabc"
      },
      "execution_count": 152,
      "outputs": [
        {
          "output_type": "execute_result",
          "data": {
            "text/plain": [
              "85"
            ]
          },
          "metadata": {},
          "execution_count": 152
        }
      ]
    },
    {
      "cell_type": "code",
      "source": [
        "Mayus[0:10] #Imprimimos las primeras 10"
      ],
      "metadata": {
        "colab": {
          "base_uri": "https://localhost:8080/"
        },
        "id": "NrQfEU2SxkBG",
        "outputId": "d1369161-4c22-4459-d9ce-f27c10a15724"
      },
      "execution_count": 153,
      "outputs": [
        {
          "output_type": "execute_result",
          "data": {
            "text/plain": [
              "['THAT',\n",
              " 'BLAND',\n",
              " 'HANDS',\n",
              " 'STALE',\n",
              " 'REALLY',\n",
              " 'GC',\n",
              " 'NASTY',\n",
              " 'WORST',\n",
              " 'NEVER',\n",
              " 'AZ']"
            ]
          },
          "metadata": {},
          "execution_count": 153
        }
      ]
    },
    {
      "cell_type": "markdown",
      "source": [
        "*   **Pregunta 4.**  \n",
        "\n",
        "Busca e imprime los comentarios en donde todos los caracteres alfabéticos (letras) están en mayúsculas.\n",
        "\n",
        "Cada coincidencia encontrada debe ser todo el comentario/enunciado.\n",
        "\n",
        "Indica cuántos resultados obtuviste.\n"
      ],
      "metadata": {
        "id": "GX8eYyDoMZma"
      }
    },
    {
      "cell_type": "code",
      "source": [
        "MayusFrases = [p for p in saltos if len(re.findall(r'[a-z]', p)) == 0]\n",
        "#De la lista que teníamos de frases busca frase por frase que la cantidad de letras\n",
        "#que son minúsculas sean 0."
      ],
      "metadata": {
        "id": "K8VuZxvTMYj6"
      },
      "execution_count": 107,
      "outputs": []
    },
    {
      "cell_type": "code",
      "source": [
        "len(MayusFrases) #Imprime la cantidad de resultados"
      ],
      "metadata": {
        "id": "PmKgX7sCMcDx",
        "colab": {
          "base_uri": "https://localhost:8080/"
        },
        "outputId": "08d66f68-5f77-4c7c-f2bd-2b574af8977a"
      },
      "execution_count": 108,
      "outputs": [
        {
          "output_type": "execute_result",
          "data": {
            "text/plain": [
              "5"
            ]
          },
          "metadata": {},
          "execution_count": 108
        }
      ]
    },
    {
      "cell_type": "code",
      "source": [
        "MayusFrases #Vemos las frases"
      ],
      "metadata": {
        "colab": {
          "base_uri": "https://localhost:8080/"
        },
        "id": "JCTAokSmx6-P",
        "outputId": "8688d1a7-7c5b-4a3a-d2d6-6631e8063430"
      },
      "execution_count": 109,
      "outputs": [
        {
          "output_type": "execute_result",
          "data": {
            "text/plain": [
              "[' DELICIOUS!!',\n",
              " ' RUDE & INCONSIDERATE MANAGEMENT.',\n",
              " ' WILL NEVER EVER GO BACK AND HAVE TOLD MANY PEOPLE WHAT HAD HAPPENED.',\n",
              " ' TOTAL WASTE OF TIME.',\n",
              " ' AVOID THIS ESTABLISHMENT!']"
            ]
          },
          "metadata": {},
          "execution_count": 109
        }
      ]
    },
    {
      "cell_type": "markdown",
      "source": [
        "*   **Pregunta 5.**  \n",
        "\n",
        "Busca e imprime todas las palabras que tengan una vocal acentuada, del tipo á, é, í, ó, ú.\n",
        "\n",
        "Indica cuántos resultados obtuviste."
      ],
      "metadata": {
        "id": "a1i6qv7-McmU"
      }
    },
    {
      "cell_type": "code",
      "source": [
        "Acentuadas = re.findall(r'\\w*(?:á|é|í|ó|ú)', prosa2.lower())\n",
        "#Checamos que la palabra contenga alguna vocal con acento"
      ],
      "metadata": {
        "id": "nZZ5zKUOMeGD"
      },
      "execution_count": 168,
      "outputs": []
    },
    {
      "cell_type": "code",
      "source": [
        "len(Acentuadas) #Imprimimos cuántos resultados coincidieron"
      ],
      "metadata": {
        "id": "l1mFvUEZMe8s",
        "colab": {
          "base_uri": "https://localhost:8080/"
        },
        "outputId": "8367fb48-f875-4495-f065-9e4035c1eb72"
      },
      "execution_count": 169,
      "outputs": [
        {
          "output_type": "execute_result",
          "data": {
            "text/plain": [
              "3"
            ]
          },
          "metadata": {},
          "execution_count": 169
        }
      ]
    },
    {
      "cell_type": "code",
      "source": [
        "Acentuadas #Imprimimos los resultados"
      ],
      "metadata": {
        "colab": {
          "base_uri": "https://localhost:8080/"
        },
        "id": "ZC71f6sbzL5P",
        "outputId": "a3696a4f-cd23-4856-e5cd-269d2d155daa"
      },
      "execution_count": 170,
      "outputs": [
        {
          "output_type": "execute_result",
          "data": {
            "text/plain": [
              "['fiancé', 'café', 'puré']"
            ]
          },
          "metadata": {},
          "execution_count": 170
        }
      ]
    },
    {
      "cell_type": "markdown",
      "source": [
        "*   **Pregunta 6.**  \n",
        "\n",
        "Busca e imprime todas las cantidades numéricas monetarias, enteras o con decimales, que inician con el símbolo $\\$$.\n",
        "\n",
        "Indica cuántos resultados obtuviste."
      ],
      "metadata": {
        "id": "ZmPiAI82Mfb3"
      }
    },
    {
      "cell_type": "code",
      "source": [
        "Dinero = re.findall(r'\\$(\\d*\\.*\\d*)', prosa2)\n",
        "#Revisamos que encuentre el signo de dinero seguido de varios números\n",
        "#un punto y los decimales"
      ],
      "metadata": {
        "id": "6vhe9-Y-MhL9"
      },
      "execution_count": 114,
      "outputs": []
    },
    {
      "cell_type": "code",
      "source": [
        "len(Dinero) #Imprimimos la cantidad de resultados"
      ],
      "metadata": {
        "id": "_t0a5xWDMhQ5",
        "colab": {
          "base_uri": "https://localhost:8080/"
        },
        "outputId": "c070c0af-3a66-4c9a-d72d-209cd51aab03"
      },
      "execution_count": 115,
      "outputs": [
        {
          "output_type": "execute_result",
          "data": {
            "text/plain": [
              "8"
            ]
          },
          "metadata": {},
          "execution_count": 115
        }
      ]
    },
    {
      "cell_type": "code",
      "source": [
        "Dinero #Imprimimos los números"
      ],
      "metadata": {
        "colab": {
          "base_uri": "https://localhost:8080/"
        },
        "id": "eosAPVGwzd1p",
        "outputId": "41174bba-7400-4d2b-a01b-8d4e84e76ce2"
      },
      "execution_count": 116,
      "outputs": [
        {
          "output_type": "execute_result",
          "data": {
            "text/plain": [
              "['20', '4.00', '17', '3', '35', '7.85', '12', '11.99']"
            ]
          },
          "metadata": {},
          "execution_count": 116
        }
      ]
    },
    {
      "cell_type": "markdown",
      "source": [
        "*   **Pregunta 7.**  \n",
        "\n",
        "Busca e imprime todas las palabras que sean variantes de la palabra \"love\", sin importar si incluyen mayúsculas o minúsculas, o la manera en que esté conjugada o alguna otra variación que se haga con dicha palabra.\n",
        "\n",
        "Indica cuántos resultados obtuviste."
      ],
      "metadata": {
        "id": "2j-HpvhwMhq2"
      }
    },
    {
      "cell_type": "code",
      "source": [
        "Amor =  re.findall(r'\\bLOV\\w+', prosa2.upper())\n",
        "#Revisamos que la palabra empiece con \"LOV\""
      ],
      "metadata": {
        "id": "kqqyRChVMjol"
      },
      "execution_count": 173,
      "outputs": []
    },
    {
      "cell_type": "code",
      "source": [
        "len(Amor) #Imprimimos la cantidad de resultados"
      ],
      "metadata": {
        "id": "UXd0VQluMj_x",
        "colab": {
          "base_uri": "https://localhost:8080/"
        },
        "outputId": "cbbdd75e-4531-4954-b39f-9a58d44e3e6d"
      },
      "execution_count": 174,
      "outputs": [
        {
          "output_type": "execute_result",
          "data": {
            "text/plain": [
              "36"
            ]
          },
          "metadata": {},
          "execution_count": 174
        }
      ]
    },
    {
      "cell_type": "code",
      "source": [
        "Amor[0:10] #Se imprimen los primeros 10 resultados"
      ],
      "metadata": {
        "colab": {
          "base_uri": "https://localhost:8080/"
        },
        "id": "clv7wYgozvGu",
        "outputId": "ae7d0e0a-bc48-4ace-c6c7-ce3680ad150b"
      },
      "execution_count": 175,
      "outputs": [
        {
          "output_type": "execute_result",
          "data": {
            "text/plain": [
              "['LOVED',\n",
              " 'LOVED',\n",
              " 'LOVED',\n",
              " 'LOVE',\n",
              " 'LOVES',\n",
              " 'LOVED',\n",
              " 'LOVERS',\n",
              " 'LOVING',\n",
              " 'LOVE',\n",
              " 'LOVERS']"
            ]
          },
          "metadata": {},
          "execution_count": 175
        }
      ]
    },
    {
      "cell_type": "markdown",
      "source": [
        "*   **Pregunta 8.**  \n",
        "\n",
        "Busca e imprime todas las palabras, variantes de \"so\" y \"good\", que tengan dos o más \"o\" en \"so\" y 3 o más \"o\" en good.\n",
        "\n",
        "Indica cuántas encontraste.\n"
      ],
      "metadata": {
        "id": "Ctb-NTY3MkYG"
      }
    },
    {
      "cell_type": "code",
      "source": [
        "sogood = re.findall(r'(?:SO{2,}|GO{3,}D+)',prosa2.upper())\n",
        "#Hacemos un \"OR\". Que coincida SO y que haya dos o más \"O\".\n",
        "#O que haya un GO con 3 o más \"O\" que seguido haya una D"
      ],
      "metadata": {
        "id": "A8Nf3B_cMlqg"
      },
      "execution_count": 165,
      "outputs": []
    },
    {
      "cell_type": "code",
      "source": [
        "len(sogood) #Se imprime la cantidad de resultados"
      ],
      "metadata": {
        "id": "svS4-vvPMl6f",
        "colab": {
          "base_uri": "https://localhost:8080/"
        },
        "outputId": "a8df432c-a1d1-4296-e0dd-988a2c067ea0"
      },
      "execution_count": 166,
      "outputs": [
        {
          "output_type": "execute_result",
          "data": {
            "text/plain": [
              "14"
            ]
          },
          "metadata": {},
          "execution_count": 166
        }
      ]
    },
    {
      "cell_type": "code",
      "source": [
        "sogood #Se imprimen los resultados"
      ],
      "metadata": {
        "colab": {
          "base_uri": "https://localhost:8080/"
        },
        "id": "XnxPo_ak2Ef9",
        "outputId": "b3dee359-1b9b-4d8a-b659-d02c76e54d01"
      },
      "execution_count": 167,
      "outputs": [
        {
          "output_type": "execute_result",
          "data": {
            "text/plain": [
              "['SOOOOO',\n",
              " 'SOO',\n",
              " 'SOOOO',\n",
              " 'SOO',\n",
              " 'SOO',\n",
              " 'GOOODD',\n",
              " 'SOO',\n",
              " 'SOO',\n",
              " 'SOOOOOO',\n",
              " 'SOO',\n",
              " 'SOO',\n",
              " 'SOOOO',\n",
              " 'SOO',\n",
              " 'SOO']"
            ]
          },
          "metadata": {},
          "execution_count": 167
        }
      ]
    },
    {
      "cell_type": "markdown",
      "source": [
        "*   **Pregunta 9.**  \n",
        "\n",
        "Busca e imprime todas las palabras que tengan una longitud mayor estrictamente a 10 caracteres alfabéticos.\n",
        "\n",
        "No se consideran los signos de puntuación o caracteres especiales en la longitud de estas cadenas, solo caracteres alfabéticos en mayúsculas o minúsculas.\n",
        "\n",
        "Indica la cantidad de palabras encontradas.\n"
      ],
      "metadata": {
        "id": "hkak1opjMmlk"
      }
    },
    {
      "cell_type": "code",
      "source": [
        "onceCaracteres = re.findall(r'\\b\\w{11,}\\b', prosa2) #Se revisa que sea una palabra de al menos 11 caracteres"
      ],
      "metadata": {
        "id": "PYxdp3uhMoD0"
      },
      "execution_count": 123,
      "outputs": []
    },
    {
      "cell_type": "code",
      "source": [
        "len(onceCaracteres) #Imprimimos la cantidad de palabras que cumplen con la característica"
      ],
      "metadata": {
        "id": "BR7e2F4FMof-",
        "colab": {
          "base_uri": "https://localhost:8080/"
        },
        "outputId": "4251c520-2084-4675-cdeb-26ee191c21bd"
      },
      "execution_count": 124,
      "outputs": [
        {
          "output_type": "execute_result",
          "data": {
            "text/plain": [
              "141"
            ]
          },
          "metadata": {},
          "execution_count": 124
        }
      ]
    },
    {
      "cell_type": "code",
      "source": [
        "onceCaracteres[0:10] #Se imprimen los primeros 10 resultados"
      ],
      "metadata": {
        "colab": {
          "base_uri": "https://localhost:8080/"
        },
        "id": "N36EBo0B30sH",
        "outputId": "0079d451-83be-4348-bd89-a16bb92ba005"
      },
      "execution_count": 125,
      "outputs": [
        {
          "output_type": "execute_result",
          "data": {
            "text/plain": [
              "['recommendation',\n",
              " 'recommended',\n",
              " 'overwhelmed',\n",
              " 'inexpensive',\n",
              " 'establishment',\n",
              " 'imaginative',\n",
              " 'opportunity',\n",
              " 'experiencing',\n",
              " 'underwhelming',\n",
              " 'relationship']"
            ]
          },
          "metadata": {},
          "execution_count": 125
        }
      ]
    },
    {
      "cell_type": "markdown",
      "source": [
        "*   **Pregunta 10.**  \n",
        "\n",
        "Busca e imprime todas las palabras que inician con una letra mayúscula y terminan con una minúscula, pero que además no sea la primera palabra del comentario/string.\n",
        "\n",
        "Indica la cantidad de resultados obtenidos."
      ],
      "metadata": {
        "id": "ApjTNzSxMpDc"
      }
    },
    {
      "cell_type": "code",
      "source": [
        "p10 = [word for p in saltos for word in re.findall(r'\\b[A-Z][a-z]+\\b', p) if p.replace(\" \",\"\").find(word) > 1]\n",
        "#Son dos ciclos for en donde primeramente recorremos las frases cada una es p y de cada p recorremos cada palabra.\n",
        "#De cada frase revisamos cuántas palabras coinciden con que empiezan con mayúscula y terminan en minúscula.\n",
        "#Las frases normalmente empiezan con espacios y como tenemos la condición que la primera no sea tomada en cuenta hay\n",
        "#que deshacernos del espacio con el replace. Después buscamos la palabra en la frase que la coincidencia sea\n",
        "#mayor que 1 (significa que no es la primera, aunque sea el espacio 0 el primero, le puse 1 porque igual es correcto\n",
        "#porque el siguiente igual sería un espacio para separar las palabras y puede que empiece la frase con comillas)"
      ],
      "metadata": {
        "id": "Vb0ndRGAMqdL"
      },
      "execution_count": 126,
      "outputs": []
    },
    {
      "cell_type": "code",
      "source": [
        "len(p10) #Imprimimos la cantidad de coincidencias"
      ],
      "metadata": {
        "id": "dLPTRPnTMqqx",
        "colab": {
          "base_uri": "https://localhost:8080/"
        },
        "outputId": "232d8acf-3722-4339-dd6d-336e6e2e0a60"
      },
      "execution_count": 127,
      "outputs": [
        {
          "output_type": "execute_result",
          "data": {
            "text/plain": [
              "268"
            ]
          },
          "metadata": {},
          "execution_count": 127
        }
      ]
    },
    {
      "cell_type": "code",
      "source": [
        "p10[0:10] #Se imprimen los primeros 10 resultados"
      ],
      "metadata": {
        "colab": {
          "base_uri": "https://localhost:8080/"
        },
        "id": "0GYArw4G6IQC",
        "outputId": "31407f3b-ca14-4511-ac1f-a8ad9d758f2e"
      },
      "execution_count": 128,
      "outputs": [
        {
          "output_type": "execute_result",
          "data": {
            "text/plain": [
              "['Loved',\n",
              " 'May',\n",
              " 'Rick',\n",
              " 'Steve',\n",
              " 'Cape',\n",
              " 'Cod',\n",
              " 'Vegas',\n",
              " 'Burrittos',\n",
              " 'Blah',\n",
              " 'The']"
            ]
          },
          "metadata": {},
          "execution_count": 128
        }
      ]
    },
    {
      "cell_type": "markdown",
      "source": [
        "*   **Pregunta 11.**  \n",
        "\n",
        "Busca e imprime la secuencia de dos o más palabras que están separadas por un guion, \"-\", sin que tengan espacios en blanco entre ellas.\n",
        "\n",
        "Por ejemplo \"Go-Kart\" sería válido, pero \"Go  -Kart\" o \"Go  -  Kart\" no lo serían.\n",
        "\n",
        "Indica la cantidad de resultados obtenidos."
      ],
      "metadata": {
        "id": "u7nfm4KhMrNW"
      }
    },
    {
      "cell_type": "code",
      "source": [
        "p11 = re.findall(r'\\b\\w+(?:\\-\\w+){1,}\\b',prosa2)\n",
        "#Se buscan todas las palabras que estén unidas con guion y coincida una o más veces\n",
        "#Porque hay una palabra que tiene hasta 6 palabras unidas"
      ],
      "metadata": {
        "id": "OwU-a7eGMsub"
      },
      "execution_count": 129,
      "outputs": []
    },
    {
      "cell_type": "code",
      "source": [
        "len(p11) #Se imprimen la cantidad de resultados"
      ],
      "metadata": {
        "id": "SgzIL74ZMtGw",
        "colab": {
          "base_uri": "https://localhost:8080/"
        },
        "outputId": "0453e951-d15e-4f2e-ebef-c83b5a8bed1a"
      },
      "execution_count": 130,
      "outputs": [
        {
          "output_type": "execute_result",
          "data": {
            "text/plain": [
              "19"
            ]
          },
          "metadata": {},
          "execution_count": 130
        }
      ]
    },
    {
      "cell_type": "code",
      "source": [
        "p11 #Se imprimen los resultados"
      ],
      "metadata": {
        "colab": {
          "base_uri": "https://localhost:8080/"
        },
        "id": "iysI5Pwa7NpY",
        "outputId": "fc13df08-74fb-4e15-be0f-65c916cc621c"
      },
      "execution_count": 131,
      "outputs": [
        {
          "output_type": "execute_result",
          "data": {
            "text/plain": [
              "['flat-lined',\n",
              " 'hands-down',\n",
              " 'must-stop',\n",
              " 'sub-par',\n",
              " 'Service-check',\n",
              " 'in-house',\n",
              " 'been-stepped-in-and-tracked-everywhere',\n",
              " 'multi-grain',\n",
              " 'to-go',\n",
              " 'non-customer',\n",
              " 'High-quality',\n",
              " 'sit-down',\n",
              " 'over-whelm',\n",
              " 'low-key',\n",
              " 'non-fancy',\n",
              " 'golden-crispy',\n",
              " 'over-priced',\n",
              " 'over-hip',\n",
              " 'under-services']"
            ]
          },
          "metadata": {},
          "execution_count": 131
        }
      ]
    },
    {
      "cell_type": "markdown",
      "source": [
        "*   **Pregunta 12.**  \n",
        "\n",
        "Busca e imprime todas las palabras que terminan en \"ing\" o \"ed\".\n",
        "\n",
        "Indica la cantidad de palabras que encontraste de cada una."
      ],
      "metadata": {
        "id": "DEIgl79HMthr"
      }
    },
    {
      "cell_type": "code",
      "source": [
        "palabrasIng = re.findall(r'\\b\\w+ING\\b', prosa2.upper()) #Se revisan cuantas palabras terminan en ING\n",
        "palabrasEd = re.findall(r'\\b\\w+ED\\b', prosa2.upper()) #Se revisan cuantas palabras terminan en ED"
      ],
      "metadata": {
        "id": "I4TSofBMMv9y"
      },
      "execution_count": 140,
      "outputs": []
    },
    {
      "cell_type": "code",
      "source": [
        "len(palabrasIng) #Se imprimen la cantidad de palabras que terminan en ING"
      ],
      "metadata": {
        "id": "AhGq6De2Mvyh",
        "colab": {
          "base_uri": "https://localhost:8080/"
        },
        "outputId": "6bcc23cf-8019-492a-9b41-6e1ecc2937f4"
      },
      "execution_count": 142,
      "outputs": [
        {
          "output_type": "execute_result",
          "data": {
            "text/plain": [
              "280"
            ]
          },
          "metadata": {},
          "execution_count": 142
        }
      ]
    },
    {
      "cell_type": "code",
      "source": [
        "\n",
        "len(palabrasEd) #Se imprimen la cantidad de palabras que terminan en ED"
      ],
      "metadata": {
        "colab": {
          "base_uri": "https://localhost:8080/"
        },
        "id": "xU2-L7dm7q0L",
        "outputId": "96d0c089-52bd-4253-ea80-a0ed4c5997c3"
      },
      "execution_count": 141,
      "outputs": [
        {
          "output_type": "execute_result",
          "data": {
            "text/plain": [
              "339"
            ]
          },
          "metadata": {},
          "execution_count": 141
        }
      ]
    },
    {
      "cell_type": "code",
      "source": [
        "palabrasIng[0:10] #Se imprimen las palabras que terminan en ING"
      ],
      "metadata": {
        "colab": {
          "base_uri": "https://localhost:8080/"
        },
        "id": "uAEhOZ-k7yQB",
        "outputId": "f67b774e-07c3-4718-fe97-0beb2a52ac71"
      },
      "execution_count": 143,
      "outputs": [
        {
          "output_type": "execute_result",
          "data": {
            "text/plain": [
              "['DURING',\n",
              " 'GETTING',\n",
              " 'BEING',\n",
              " 'BEING',\n",
              " 'AMAZING',\n",
              " 'RUNNING',\n",
              " 'REDEEMING',\n",
              " 'GETTING',\n",
              " 'THING',\n",
              " 'DRESSING']"
            ]
          },
          "metadata": {},
          "execution_count": 143
        }
      ]
    },
    {
      "cell_type": "code",
      "source": [
        "palabrasEd[0:10] #Se imprimen las palabras que terminan en ED"
      ],
      "metadata": {
        "colab": {
          "base_uri": "https://localhost:8080/"
        },
        "id": "MEtGBdSL7yq6",
        "outputId": "0a9fed2c-5c17-4b8a-af64-b02355d0c34e"
      },
      "execution_count": 144,
      "outputs": [
        {
          "output_type": "execute_result",
          "data": {
            "text/plain": [
              "['LOVED',\n",
              " 'STOPPED',\n",
              " 'LOVED',\n",
              " 'ENDED',\n",
              " 'OVERPRICED',\n",
              " 'TRIED',\n",
              " 'DISGUSTED',\n",
              " 'SHOCKED',\n",
              " 'RECOMMENDED',\n",
              " 'PERFORMED']"
            ]
          },
          "metadata": {},
          "execution_count": 144
        }
      ]
    },
    {
      "cell_type": "markdown",
      "source": [
        "#**Parte 3. Proceso de limpieza.**"
      ],
      "metadata": {
        "id": "70StdqAZa9E9"
      }
    },
    {
      "cell_type": "markdown",
      "source": [
        "*   **Pregunta 13.**  \n",
        "\n",
        "Ahora realiza un proceso de limpieza del corpus que incluya los siguientes procesos:\n",
        "\n",
        "*   Solo se deben considerar caracteres alfabéticos. Es decir, se eliminan todos los signos de puntuación y caracteres especiales.\n",
        "*   Todos los caracteres alfabéticos se transforman a minúsculas.\n",
        "*   Se deben eliminar todos los espacios en blanco adicionales que se puedan encontrar en cada comentario.\n",
        "\n",
        "Al finalizar dicho proceso de limpieza, imprime el resultado de los primeros 10 comentarios resultantes.\n",
        "   \n",
        "\n",
        "\n"
      ],
      "metadata": {
        "id": "xaDUFXHrMvX2"
      }
    },
    {
      "cell_type": "code",
      "source": [
        "limpio = [\" \".join(re.findall(r'\\b[A-Za-z]+\\b',p)).lower() for p in saltos]\n",
        "#Se crea una lista que contenga puras letras mayúsculas o minúsculas de la lista que teníamos antes\n",
        "#y las pasa a minúsculas y en forma de prosa"
      ],
      "metadata": {
        "id": "K3kQzPOPMx0w"
      },
      "execution_count": 145,
      "outputs": []
    },
    {
      "cell_type": "code",
      "source": [
        "limpio[0:10] #Vemos los resultados"
      ],
      "metadata": {
        "id": "mYEDlHSFMyJN",
        "colab": {
          "base_uri": "https://localhost:8080/"
        },
        "outputId": "167293b7-661e-4e3c-d317-a775943b5059"
      },
      "execution_count": 146,
      "outputs": [
        {
          "output_type": "execute_result",
          "data": {
            "text/plain": [
              "['wow loved this place',\n",
              " 'crust is not good',\n",
              " 'not tasty and the texture was just nasty',\n",
              " 'stopped by during the late may bank holiday off rick steve recommendation and loved it',\n",
              " 'the selection on the menu was great and so were the prices',\n",
              " 'now i am getting angry and i want my damn pho',\n",
              " 'honeslty it didn t taste that fresh',\n",
              " 'the potatoes were like rubber and you could tell they had been made up ahead of time being kept under a warmer',\n",
              " 'the fries were great too',\n",
              " 'a great touch']"
            ]
          },
          "metadata": {},
          "execution_count": 146
        }
      ]
    },
    {
      "cell_type": "markdown",
      "source": [
        "*   **Pregunta 14.**  \n",
        "\n",
        "Con el resultado de la limpieza obtenido en la pregunta anterior, realiza ahora un proceso de tokenización por palabras del corpus.\n",
        "\n",
        "Es decir, al final de este proceso de tokenización, debes tener como resultado una lista de listas, donde cada comentario estará tokenizado por palabras.\n",
        "\n",
        "Al terminar calcula el total de tokens obtenido en todo el corpus."
      ],
      "metadata": {
        "id": "WZwEhg2lUSAX"
      }
    },
    {
      "cell_type": "code",
      "source": [
        "tokens = [] #Creamos una lista vacía de tokens\n",
        "totalTokens = 0 #Inicializamos el contador en 0\n",
        "for comentario in limpio: #Empezamos a recorrer cada frase\n",
        "    palabras = comentario.split() #Separamos las palabras de cada frase\n",
        "    tokens.append(palabras) #Asignamos las palabras en lista a los tokens\n",
        "    totalTokens += len(palabras) #Sumamos al contador la cantidad de tokens que llevamos\n",
        "\n",
        "print(\"Total de tokens en todo el corpus:\", totalTokens)"
      ],
      "metadata": {
        "id": "kbAL9-v0V-jx",
        "colab": {
          "base_uri": "https://localhost:8080/"
        },
        "outputId": "9e8e575a-bcee-46e9-b9f0-0f440833538c"
      },
      "execution_count": 147,
      "outputs": [
        {
          "output_type": "stream",
          "name": "stdout",
          "text": [
            "Total de tokens en todo el corpus: 11030\n"
          ]
        }
      ]
    },
    {
      "cell_type": "code",
      "source": [
        "tokens[0:3] #Imprimimos las primeras tres frases"
      ],
      "metadata": {
        "id": "DZs_etmiV-fd",
        "colab": {
          "base_uri": "https://localhost:8080/"
        },
        "outputId": "69f5d938-2764-4716-aa0f-8b0e4549f4b9"
      },
      "execution_count": 150,
      "outputs": [
        {
          "output_type": "execute_result",
          "data": {
            "text/plain": [
              "[['wow', 'loved', 'this', 'place'],\n",
              " ['crust', 'is', 'not', 'good'],\n",
              " ['not', 'tasty', 'and', 'the', 'texture', 'was', 'just', 'nasty']]"
            ]
          },
          "metadata": {},
          "execution_count": 150
        }
      ]
    },
    {
      "cell_type": "markdown",
      "source": [
        "*   **Pregunta 15.**  \n",
        "\n",
        "Finalmente, en este ejercicio definiremos nuestro conjunto de palabras \"stopwords\", las cuales deberás eliminar de todo el corpus.\n",
        "\n",
        "Recuerda que ejemplos de stopwords son artículos, adverbios, conectivos, etcétera, que tienen frecuencias de aparición muy altas en cualquier documento, pero que no brindan mucho significado en cuanto al significado de un enunciado.\n",
        "\n",
        "Con base a la lista de stopwords que se te proporciona, realiza un proceso de limpieza eliminando todas estas palabras del corpus obtenido en el ejercicio anterior.\n",
        "\n",
        "Obtener cuántos tokens/palabras quedan finalmente en todo el corpus.\n",
        "\n",
        "Obtener cuántos de estos tokens/palabras son diferentes, es decir, cuántos tokens únicos tendrá lo que llamaremos más adelante nuestro vocabulario."
      ],
      "metadata": {
        "id": "EFeu0OJ7WDPD"
      }
    },
    {
      "cell_type": "code",
      "source": [
        "# Considera la siguiente lista como tu conjunto de stopwords:\n",
        "mis_stopwords = ['i', 'me', 'my', 'myself', 'we', 'our', 'ours', 'ourselves', 'you', 'your', 'yours', 'he', 'him', 'his', 'himself', 'she', 'her', 'hers', 'herself', 'it', 'its', 'itself', 'they', 'them', 'their', 'theirs', 'themselves', 'what', 'which', 'who', 'whom', 'this', 'that', 'these', 'those', 'am', 'is', 'are', 'was', 'were', 'be', 'been', 'being', 'have', 'has', 'had', 'having', 'do', 'does', 'did', 'doing', 'a', 'an', 'the', 'and', 'but', 'if', 'or', 'because', 'as', 'until', 'while', 'of', 'at', 'by', 'for', 'with', 'about', 'against', 'between', 'into', 'through', 'during', 'before', 'after', 'above', 'below', 'to', 'from', 'up', 'down', 'in', 'out', 'on', 'over', 'under', 'again', 'further', 'then', 'once', 'here', 'there', 'when', 'where', 'why', 'how', 'all', 'any', 'both', 'each', 'few', 'more', 'most', 'other', 'some', 'such', 'only', 'own', 'same', 'so', 'than', 'too', 'very', 's', 't', 'can', 'will', 'just', 'should', 'now', 'll']"
      ],
      "metadata": {
        "id": "6FP4FF3KXGxm"
      },
      "execution_count": 154,
      "outputs": []
    },
    {
      "cell_type": "code",
      "source": [
        "textoFiltrado = re.sub(r'\\b(?:' + '|'.join(mis_stopwords) + r')\\b', '', \" \".join(limpio)).split()\n",
        "#Usando las stopwords usamos la función sub para reemplazar por un string vacío todas esas palabras\n",
        "#que coincidan exactamente con las palabras proporcionadas y lo convertimos en lista"
      ],
      "metadata": {
        "id": "CD8yjyq1ZrwY"
      },
      "execution_count": 162,
      "outputs": []
    },
    {
      "cell_type": "code",
      "source": [
        "len(textoFiltrado) #Imprimimos la cantidad de palabras"
      ],
      "metadata": {
        "id": "4ZPi5prKZro5",
        "colab": {
          "base_uri": "https://localhost:8080/"
        },
        "outputId": "4e570aa9-e511-420f-b7be-f2f6828d0b48"
      },
      "execution_count": 163,
      "outputs": [
        {
          "output_type": "execute_result",
          "data": {
            "text/plain": [
              "5775"
            ]
          },
          "metadata": {},
          "execution_count": 163
        }
      ]
    },
    {
      "cell_type": "code",
      "source": [
        "textoFiltrado[0:20] #Imprimimos 20 palabras"
      ],
      "metadata": {
        "colab": {
          "base_uri": "https://localhost:8080/"
        },
        "id": "MLA_VSk9zL-2",
        "outputId": "acbba448-0de7-4626-e646-05031eb1a2db"
      },
      "execution_count": 164,
      "outputs": [
        {
          "output_type": "execute_result",
          "data": {
            "text/plain": [
              "['wow',\n",
              " 'loved',\n",
              " 'place',\n",
              " 'crust',\n",
              " 'not',\n",
              " 'good',\n",
              " 'not',\n",
              " 'tasty',\n",
              " 'texture',\n",
              " 'nasty',\n",
              " 'stopped',\n",
              " 'late',\n",
              " 'may',\n",
              " 'bank',\n",
              " 'holiday',\n",
              " 'off',\n",
              " 'rick',\n",
              " 'steve',\n",
              " 'recommendation',\n",
              " 'loved']"
            ]
          },
          "metadata": {},
          "execution_count": 164
        }
      ]
    },
    {
      "cell_type": "markdown",
      "source": [
        "*   **Comentarios**\n",
        "\n",
        "Incluye finalmente tus comentarios de la actividad."
      ],
      "metadata": {
        "id": "NDbKkuxRbLoX"
      }
    },
    {
      "cell_type": "markdown",
      "source": [
        "Encontré el uso de expresiones regulares como una manera muy eficiente de limpiar y obtener información del texto, de tal manera que podemos hacer en solo una línea de código algo que probablemente sin este recurso serían más."
      ],
      "metadata": {
        "id": "o7fzbvqVbUGr"
      }
    },
    {
      "cell_type": "markdown",
      "source": [
        "##**Fin de la Actividad de la semana 2.**"
      ],
      "metadata": {
        "id": "PHaKw_6Ldbaf"
      }
    }
  ]
}